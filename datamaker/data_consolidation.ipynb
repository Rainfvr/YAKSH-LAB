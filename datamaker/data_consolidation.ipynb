{
 "cells": [
  {
   "cell_type": "code",
   "execution_count": 10,
   "metadata": {},
   "outputs": [
    {
     "name": "stdout",
     "output_type": "stream",
     "text": [
      "['NPV_mac_ TLR4_Male_naive__DRG5.lif.csv', 'NPV_mac_Female TLR4_no dex_Serum _DRG1.lif.csv', 'NPV_mac_Female TLR4_no dex_SERUM_DRG1.lif.csv', 'NPV_mac_Female TLR4_no dex_SERUM_DRG3.lif.csv', 'PV_mac_ TLR4_Male_naive__DRG5.lif.csv', 'PV_mac_Female TLR4_no dex_Serum _DRG1.lif.csv', 'PV_mac_Female TLR4_no dex_SERUM_DRG1.lif.csv', 'PV_mac_Female TLR4_no dex_SERUM_DRG3.lif.csv', 'NPV_mac_Female WT_no dex_ serum DRG 5.lif.csv', 'NPV_mac_Female WT_no dex_ serum DRG 6.lif.csv', 'NPV_mac_Female WT_no dex_serum DRG 3.lif.csv', 'NPV_mac_Female WT_no dex_serum DRG 4.lif.csv', 'NPV_mac_Female_naive_no dex_DRG1.lif.csv', 'NPV_mac_Female_naive_no dex_DRG3.lif.csv', 'NPV_mac_Female_naive_no dex_DRG5.lif.csv', 'NPV_mac_Female WT _no dex_ serum DRG  1.lif.csv', 'PV_mac_Female WT _no dex_ serum DRG  1.lif.csv', 'PV_mac_Female WT_no dex_ serum DRG 5.lif.csv', 'PV_mac_Female WT_no dex_ serum DRG 6.lif.csv', 'PV_mac_Female WT_no dex_serum DRG 3.lif.csv', 'PV_mac_Female WT_no dex_serum DRG 4.lif.csv', 'PV_mac_Female_naive_no dex_DRG1.lif.csv', 'PV_mac_Female_naive_no dex_DRG3.lif.csv', 'PV_mac_Female_naive_no dex_DRG5.lif.csv']\n",
      "['NPV_BloodVessels_ TLR4_Male_naive__DRG5.lif.csv', 'NPV_BloodVessels_Female TLR4_no dex_Serum _DRG1.lif.csv', 'NPV_BloodVessels_Female TLR4_no dex_SERUM_DRG1.lif.csv', 'NPV_BloodVessels_Female TLR4_no dex_SERUM_DRG3.lif.csv', 'NPV_BloodVessels_Female WT _no dex_ serum DRG  1.lif.csv', 'NPV_BloodVessels_Female WT_no dex_ serum DRG 5.lif.csv', 'NPV_BloodVessels_Female WT_no dex_ serum DRG 6.lif.csv', 'NPV_BloodVessels_Female WT_no dex_serum DRG 3.lif.csv', 'NPV_BloodVessels_Female WT_no dex_serum DRG 4.lif.csv', 'NPV_BloodVessels_Female_naive_no dex_DRG1.lif.csv', 'NPV_BloodVessels_Female_naive_no dex_DRG3.lif.csv', 'NPV_BloodVessels_Female_naive_no dex_DRG5.lif.csv', 'PV_BloodVessels_Female TLR4_no dex_Serum _DRG1.lif.csv', 'PV_BloodVessels_Female TLR4_no dex_SERUM_DRG1.lif.csv', 'PV_BloodVessels_Female TLR4_no dex_SERUM_DRG3.lif.csv', 'PV_BloodVessels_Female WT _no dex_ serum DRG  1.lif.csv', 'PV_BloodVessels_Female WT_no dex_ serum DRG 5.lif.csv', 'PV_BloodVessels_Female WT_no dex_ serum DRG 6.lif.csv', 'PV_BloodVessels_Female WT_no dex_serum DRG 3.lif.csv', 'PV_BloodVessels_Female WT_no dex_serum DRG 4.lif.csv', 'PV_BloodVessels_Female_naive_no dex_DRG1.lif.csv', 'PV_BloodVessels_Female_naive_no dex_DRG3.lif.csv', 'PV_BloodVessels_Female_naive_no dex_DRG5.lif.csv', 'PV_BloodVessels_ TLR4_Male_naive__DRG5.lif.csv']\n",
      "['NPV_NeuN_ TLR4_Male_naive__DRG5.lif.csv', 'NPV_NeuN_Female TLR4_no dex_Serum _DRG1.lif.csv', 'NPV_NeuN_Female TLR4_no dex_SERUM_DRG1.lif.csv', 'NPV_NeuN_Female TLR4_no dex_SERUM_DRG3.lif.csv', 'NPV_NeuN_Female WT _no dex_ serum DRG  1.lif.csv', 'NPV_NeuN_Female WT_no dex_ serum DRG 5.lif.csv', 'NPV_NeuN_Female WT_no dex_ serum DRG 6.lif.csv', 'NPV_NeuN_Female WT_no dex_serum DRG 3.lif.csv', 'NPV_NeuN_Female WT_no dex_serum DRG 4.lif.csv', 'NPV_NeuN_Female_naive_no dex_DRG1.lif.csv', 'NPV_NeuN_Female_naive_no dex_DRG3.lif.csv', 'NPV_NeuN_Female_naive_no dex_DRG5.lif.csv', 'PV_NeuN_ TLR4_Male_naive__DRG5.lif.csv', 'PV_NeuN_Female TLR4_no dex_Serum _DRG1.lif.csv', 'PV_NeuN_Female TLR4_no dex_SERUM_DRG1.lif.csv', 'PV_NeuN_Female TLR4_no dex_SERUM_DRG3.lif.csv', 'PV_NeuN_Female WT _no dex_ serum DRG  1.lif.csv', 'PV_NeuN_Female WT_no dex_ serum DRG 5.lif.csv', 'PV_NeuN_Female WT_no dex_ serum DRG 6.lif.csv', 'PV_NeuN_Female WT_no dex_serum DRG 3.lif.csv', 'PV_NeuN_Female WT_no dex_serum DRG 4.lif.csv', 'PV_NeuN_Female_naive_no dex_DRG1.lif.csv', 'PV_NeuN_Female_naive_no dex_DRG3.lif.csv', 'PV_NeuN_Female_naive_no dex_DRG5.lif.csv']\n",
      "['bv_combined.csv', 'mac_combined.csv', 'neu_combined.csv']\n"
     ]
    }
   ],
   "source": [
    "# input project folder  location\n",
    "\n",
    "projectfolder = '/media/analysis/DATA/USERS/Gilson/Gilson 2'\n",
    "dt = projectfolder + '/data_tables'\n",
    "\n",
    "import pandas as pd\n",
    "import glob\n",
    "import os\n",
    "\n",
    "os.chdir(dt)\n",
    "\n",
    "globbed_files_mac = glob.glob(\"*mac*\") #creates a list of all csv files\n",
    "print(globbed_files_mac)\n",
    "\n",
    "data = [] # pd.concat takes a list of dataframes as an agrument\n",
    "\n",
    "for csv in globbed_files_mac:\n",
    "    frame = pd.read_csv(csv)\n",
    "    frame['filename'] = os.path.basename(csv)\n",
    "    data.append(frame)\n",
    "\n",
    "combined = pd.concat(data, ignore_index=True) #dont want pandas to try an align row indexes\n",
    "os.chdir(projectfolder)\n",
    "combined.to_csv(\"mac_combined.csv\")\n",
    "\n",
    "\n",
    "os.chdir(dt)\n",
    "globbed_files_bv = glob.glob(\"*Blood*\") #creates a list of all csv files\n",
    "print(globbed_files_bv)\n",
    "\n",
    "data2 = [] # pd.concat takes a list of dataframes as an agrument\n",
    "\n",
    "for csv in globbed_files_bv:\n",
    "    frame = pd.read_csv(csv)\n",
    "    frame['filename'] = os.path.basename(csv)\n",
    "    data2.append(frame) \n",
    "combined2 = pd.concat(data2, ignore_index=True) #dont want pandas to try an align row indexes\n",
    "os.chdir(projectfolder)\n",
    "combined2.to_csv(\"bv_combined.csv\")\n",
    "\n",
    "\n",
    "os.chdir(dt)\n",
    "globbed_files_neu = glob.glob(\"*Neu*\")\n",
    "print(globbed_files_neu)\n",
    "\n",
    "data3  = []\n",
    "for csv in globbed_files_neu:\n",
    "    frame = pd.read_csv(csv)\n",
    "    frame['filename'] = os.path.basename(csv)\n",
    "    data3.append(frame)\n",
    "combined3 = pd.concat(data3, ignore_index=True)\n",
    "os.chdir(projectfolder)\n",
    "combined3.to_csv(\"neu_combined.csv\")\n",
    "\n",
    "#combine all\n",
    "catall= []\n",
    "globbed_files_all = glob.glob(\"*.csv\")\n",
    "print(globb_files_all)\n",
    "\n",
    "for csv in globbed_files_all:\n",
    "    frame = pd.read_csv(csv)\n",
    "    catall.append(frame)\n",
    "combineall = pd.concat(catall, axis=1)\n",
    "combineall.to_csv(\"full_data.csv\")\n",
    "\n",
    "\n",
    "\n",
    "\n",
    "\n",
    "\n"
   ]
  },
  {
   "cell_type": "code",
   "execution_count": 7,
   "metadata": {},
   "outputs": [
    {
     "name": "stdout",
     "output_type": "stream",
     "text": [
      "['NPV_NeuN_ TLR4_Male_naive__DRG5.lif.csv', 'NPV_NeuN_Female TLR4_no dex_Serum _DRG1.lif.csv', 'NPV_NeuN_Female TLR4_no dex_SERUM_DRG1.lif.csv', 'NPV_NeuN_Female TLR4_no dex_SERUM_DRG3.lif.csv', 'NPV_NeuN_Female WT _no dex_ serum DRG  1.lif.csv', 'NPV_NeuN_Female WT_no dex_ serum DRG 5.lif.csv', 'NPV_NeuN_Female WT_no dex_ serum DRG 6.lif.csv', 'NPV_NeuN_Female WT_no dex_serum DRG 3.lif.csv', 'NPV_NeuN_Female WT_no dex_serum DRG 4.lif.csv', 'NPV_NeuN_Female_naive_no dex_DRG1.lif.csv', 'NPV_NeuN_Female_naive_no dex_DRG3.lif.csv', 'NPV_NeuN_Female_naive_no dex_DRG5.lif.csv', 'PV_NeuN_ TLR4_Male_naive__DRG5.lif.csv', 'PV_NeuN_Female TLR4_no dex_Serum _DRG1.lif.csv', 'PV_NeuN_Female TLR4_no dex_SERUM_DRG1.lif.csv', 'PV_NeuN_Female TLR4_no dex_SERUM_DRG3.lif.csv', 'PV_NeuN_Female WT _no dex_ serum DRG  1.lif.csv', 'PV_NeuN_Female WT_no dex_ serum DRG 5.lif.csv', 'PV_NeuN_Female WT_no dex_ serum DRG 6.lif.csv', 'PV_NeuN_Female WT_no dex_serum DRG 3.lif.csv', 'PV_NeuN_Female WT_no dex_serum DRG 4.lif.csv', 'PV_NeuN_Female_naive_no dex_DRG1.lif.csv', 'PV_NeuN_Female_naive_no dex_DRG3.lif.csv', 'PV_NeuN_Female_naive_no dex_DRG5.lif.csv']\n"
     ]
    }
   ],
   "source": [
    "os.chdir(dt)\n",
    "globbed_files_neu = glob.glob(\"*Neu*\")\n",
    "print(globbed_files_neu)\n",
    "\n",
    "data3  = []\n",
    "for csv in globbed_files_neu:\n",
    "    frame = pd.read_csv(csv)\n",
    "    frame['filename'] = os.path.basename(csv)\n",
    "    data3.append(frame)\n",
    "combined3 = pd.concat(data3, ignore_index=True)\n",
    "os.chdir(projectfolder)\n",
    "combined3.to_csv(\"neu_combined.csv\")\n"
   ]
  },
  {
   "cell_type": "code",
   "execution_count": null,
   "metadata": {},
   "outputs": [],
   "source": []
  },
  {
   "cell_type": "code",
   "execution_count": null,
   "metadata": {},
   "outputs": [],
   "source": [
    "\n"
   ]
  },
  {
   "cell_type": "code",
   "execution_count": null,
   "metadata": {},
   "outputs": [],
   "source": []
  },
  {
   "cell_type": "code",
   "execution_count": null,
   "metadata": {},
   "outputs": [],
   "source": []
  },
  {
   "cell_type": "code",
   "execution_count": null,
   "metadata": {},
   "outputs": [],
   "source": [
    "\n"
   ]
  },
  {
   "cell_type": "code",
   "execution_count": null,
   "metadata": {},
   "outputs": [],
   "source": []
  },
  {
   "cell_type": "code",
   "execution_count": null,
   "metadata": {},
   "outputs": [],
   "source": []
  },
  {
   "cell_type": "code",
   "execution_count": null,
   "metadata": {},
   "outputs": [],
   "source": [
    "\n"
   ]
  },
  {
   "cell_type": "code",
   "execution_count": null,
   "metadata": {},
   "outputs": [],
   "source": []
  },
  {
   "cell_type": "code",
   "execution_count": 69,
   "metadata": {},
   "outputs": [],
   "source": [
    "import matplotlib.pyplot as plt\n",
    "import numpy as np\n",
    "%matplotlib inline"
   ]
  },
  {
   "cell_type": "code",
   "execution_count": 70,
   "metadata": {},
   "outputs": [
    {
     "name": "stdout",
     "output_type": "stream",
     "text": [
      "Index(['Count', 'Catheter', 'Titer', 'Animal', 'Location', 'Side', 'ct',\n",
      "       'als'],\n",
      "      dtype='object')\n"
     ]
    }
   ],
   "source": [
    "print(ct.columns)"
   ]
  },
  {
   "cell_type": "code",
   "execution_count": 77,
   "metadata": {},
   "outputs": [
    {
     "name": "stdout",
     "output_type": "stream",
     "text": [
      "               Count  Animal\n",
      "Location                    \n",
      "cervical   74.000000    13.0\n",
      "lumbar     90.500000    12.5\n",
      "sacral    277.666667    13.0\n",
      "thoracic   50.000000    14.0\n",
      "               Count  Animal\n",
      "Location                    \n",
      "cervical  176.666667    10.0\n",
      "lumbar    384.333333    10.0\n",
      "sacral    548.333333    10.0\n",
      "thoracic  218.333333    10.0\n",
      "               Count  Animal\n",
      "Location                    \n",
      "cervical  215.500000     7.0\n",
      "lumbar    124.000000     7.0\n",
      "sacral    217.166667     7.0\n",
      "thoracic   44.333333     7.0\n",
      "               Count    Animal\n",
      "Location                      \n",
      "Lumbar    779.000000  5.000000\n",
      "Sacral    721.000000  5.000000\n",
      "Thoracic  330.000000  5.000000\n",
      "cervical  459.428571  3.857143\n",
      "lumbar    727.600000  3.400000\n",
      "sacral    530.000000  3.400000\n",
      "thoracic  388.600000  3.400000\n"
     ]
    }
   ],
   "source": [
    "grploc_oec10=ct_oec_e10.groupby(by='Location')\n",
    "oece10avg=grploc_oec10.mean()\n",
    "\n",
    "grploc_oec12=ct_oec_e12.groupby(by='Location')\n",
    "oece12avg=grploc_oec12.mean()\n",
    "\n",
    "grploc_pmvce10=ct_pmvc_e10.groupby(by='Location')\n",
    "pmvce10avg=grploc_pmvce10.mean()\n",
    "\n",
    "grploc_pmvce12=ct_pmvc_e12.groupby(by='Location')\n",
    "pmvce12avg=grploc_pmvce12.mean()\n",
    "\n",
    "\n",
    "print(oece10avg)\n",
    "print(oece12avg)\n",
    "print(pmvce10avg)\n",
    "print(pmvce12avg)"
   ]
  },
  {
   "cell_type": "code",
   "execution_count": 78,
   "metadata": {},
   "outputs": [],
   "source": [
    "ct_oec_e10.to_csv('ct_oec_e10')\n",
    "ct_oec_e12.to_csv('ct_oec_e12')\n",
    "ct_pmvc_e10.to_csv('ct_pmvc_e10')\n",
    "ct_pmvc_e12.to_csv('ct_pmvc_e12')"
   ]
  },
  {
   "cell_type": "code",
   "execution_count": null,
   "metadata": {},
   "outputs": [],
   "source": []
  }
 ],
 "metadata": {
  "kernelspec": {
   "display_name": "Python 3",
   "language": "python",
   "name": "python3"
  },
  "language_info": {
   "codemirror_mode": {
    "name": "ipython",
    "version": 3
   },
   "file_extension": ".py",
   "mimetype": "text/x-python",
   "name": "python",
   "nbconvert_exporter": "python",
   "pygments_lexer": "ipython3",
   "version": "3.6.9"
  }
 },
 "nbformat": 4,
 "nbformat_minor": 2
}
